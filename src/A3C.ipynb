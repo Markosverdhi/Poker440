{
 "cells": [
  {
   "cell_type": "markdown",
   "metadata": {},
   "source": [
    "## A3C (Asynchronous Advantage Actor-Critic algorithm)\n",
    "This is basically Advantage Actor-Critic but with multiple parallel agents. This is one of the reinforcement learning algorithms I (Markos) think we should use. A3C already has a PyTorch implementation that we can use. The idea is that we import the environment here and this is where all the code running will be done."
   ]
  },
  {
   "cell_type": "code",
   "execution_count": null,
   "metadata": {},
   "outputs": [],
   "source": []
  }
 ],
 "metadata": {
  "language_info": {
   "name": "python"
  }
 },
 "nbformat": 4,
 "nbformat_minor": 2
}
